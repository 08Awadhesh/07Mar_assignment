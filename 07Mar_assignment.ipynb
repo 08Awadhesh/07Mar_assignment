{
 "cells": [
  {
   "cell_type": "markdown",
   "id": "7cbdbe67-822f-414b-9bdf-7d26c0af9574",
   "metadata": {},
   "source": [
    "**Q1.**  What are the three measures of central tendency?\n",
    "\n",
    "**Answer**: These are three measures of central tendency :\n",
    "\n",
    "(i) Mean,(II) Mode,(III) Median "
   ]
  },
  {
   "cell_type": "markdown",
   "id": "7420ca9c-1641-4a9a-b286-67d0e09b44c1",
   "metadata": {},
   "source": [
    "**Q2.** What is the difference between the mean, median, and mode? How are they used to measure the\n",
    "central tendency of a dataset?\n",
    "\n",
    "**Answer**:The mean, median, and mode are three common measures of central tendency used to describe the \"average\" or \"typical\" value of a dataset.\n",
    "\n",
    "**(I) Mean:** The mean is calculated by summing up all the values in a dataset and dividing the sum by the number of values. It represents the arithmetic average of the dataset. The formula for the mean is:\n",
    "\n",
    "mean = (sum of all values) / (number of values)\n",
    "\n",
    "The mean is sensitive to extreme values and can be influenced by outliers. It is commonly used when the dataset is normally distributed or approximately symmetric.\n",
    "\n",
    "**(II) Median:** The median is the middle value of a dataset when it is sorted in ascending or descending order. In other words, it is the value that separates the higher half from the lower half of the data. If the dataset has an odd number of values, the median is the middle value. If the dataset has an even number of values, the median is the average of the two middle values. The median is not affected by extreme values and is useful when dealing with skewed data or outliers.\n",
    "\n",
    "**(III) Mode:** The mode is the value or values that appear most frequently in a dataset. Unlike the mean and median, the mode is not a measure of the average value but represents the most common value(s) in the dataset. A dataset can have one mode (unimodal) or multiple modes (multimodal). It is commonly used in categorical or discrete data, such as survey responses or types of objects.\n",
    "\n",
    "These measures can be used to summarize the central tendency of a dataset depending on the nature of the data and the research question at hand. The choice of measure often depends on the distribution of the data and the specific context of the analysis"
   ]
  },
  {
   "cell_type": "markdown",
   "id": "7ccbb016-c1ae-4446-a230-9430034bd780",
   "metadata": {},
   "source": [
    "**Q3.**  Measure the three measures of central tendency for the given height data:\n",
    "\n",
    " [178,177,176,177,178.2,178,175,179,180,175,178.9,176.2,177,172.5,178,176.5]\n",
    " \n",
    " **Answer**:"
   ]
  },
  {
   "cell_type": "code",
   "execution_count": 12,
   "id": "a158b8a3-b7e5-469b-b2df-68665e8d7cbc",
   "metadata": {},
   "outputs": [],
   "source": [
    "list_=[178,177,176,177,178.2,178,175,179,180,175,178.9,176.2,177,172.5,178,176.5]"
   ]
  },
  {
   "cell_type": "code",
   "execution_count": 13,
   "id": "9ac8fab6-b431-4d89-87e8-9d99ec8c199c",
   "metadata": {},
   "outputs": [],
   "source": [
    "import numpy as np"
   ]
  },
  {
   "cell_type": "code",
   "execution_count": 14,
   "id": "edee2414-e830-4885-acb8-6a3ed6371cd6",
   "metadata": {},
   "outputs": [
    {
     "data": {
      "text/plain": [
       "177.01875"
      ]
     },
     "execution_count": 14,
     "metadata": {},
     "output_type": "execute_result"
    }
   ],
   "source": [
    "np.mean(list_)"
   ]
  },
  {
   "cell_type": "code",
   "execution_count": 15,
   "id": "d13c3b4c-9cab-479e-aa05-31bda745c54e",
   "metadata": {},
   "outputs": [
    {
     "data": {
      "text/plain": [
       "177.0"
      ]
     },
     "execution_count": 15,
     "metadata": {},
     "output_type": "execute_result"
    }
   ],
   "source": [
    "np.median(list_)"
   ]
  },
  {
   "cell_type": "code",
   "execution_count": 16,
   "id": "1cecb5c5-9d56-479b-8310-f956f917ac09",
   "metadata": {},
   "outputs": [],
   "source": [
    "from scipy import  stats as st "
   ]
  },
  {
   "cell_type": "code",
   "execution_count": 17,
   "id": "d9cbd5ec-86b5-4a67-872b-e9a7757c46f2",
   "metadata": {},
   "outputs": [
    {
     "name": "stderr",
     "output_type": "stream",
     "text": [
      "/tmp/ipykernel_78/2291010274.py:1: FutureWarning: Unlike other reduction functions (e.g. `skew`, `kurtosis`), the default behavior of `mode` typically preserves the axis it acts along. In SciPy 1.11.0, this behavior will change: the default value of `keepdims` will become False, the `axis` over which the statistic is taken will be eliminated, and the value None will no longer be accepted. Set `keepdims` to True or False to avoid this warning.\n",
      "  st.mode(list_)\n"
     ]
    },
    {
     "data": {
      "text/plain": [
       "ModeResult(mode=array([177.]), count=array([3]))"
      ]
     },
     "execution_count": 17,
     "metadata": {},
     "output_type": "execute_result"
    }
   ],
   "source": [
    "st.mode(list_)"
   ]
  },
  {
   "cell_type": "markdown",
   "id": "0044d151-6306-418b-8060-0a4371f0beff",
   "metadata": {},
   "source": [
    "**Q4.** Find the standard deviation for the given data:\n",
    "\n",
    "[178,177,176,177,178.2,178,175,179,180,175,178.9,176.2,177,172.5,178,176.5]\n",
    "\n",
    "**Answer**:"
   ]
  },
  {
   "cell_type": "code",
   "execution_count": 18,
   "id": "568f0e6b-2310-457b-bc8d-76d31233deb4",
   "metadata": {},
   "outputs": [],
   "source": [
    "list1= [178,177,176,177,178.2,178,175,179,180,175,178.9,176.2,177,172.5,178,176.5]"
   ]
  },
  {
   "cell_type": "code",
   "execution_count": 19,
   "id": "fcc2623b-0a9c-4f88-b558-9aab30fc498c",
   "metadata": {},
   "outputs": [
    {
     "data": {
      "text/plain": [
       "1.7885814036548633"
      ]
     },
     "execution_count": 19,
     "metadata": {},
     "output_type": "execute_result"
    }
   ],
   "source": [
    "\n",
    "import numpy as np \n",
    "np.std(list1)"
   ]
  },
  {
   "cell_type": "markdown",
   "id": "21dc7f72-9355-4207-ac11-9c0cd7c6a2da",
   "metadata": {},
   "source": [
    "**Q5.** How are measures of dispersion such as range, variance, and standard deviation used to describe\n",
    "the spread of a dataset? Provide an example.\n",
    "\n",
    "**Answer**:"
   ]
  },
  {
   "cell_type": "markdown",
   "id": "2f517f7b-4328-4b11-a4db-60cfaf5235b8",
   "metadata": {},
   "source": [
    "Measures of dispersion, such as range, variance, and standard deviation, are used to describe the spread or variability of a dataset. They provide information about how the values in a dataset are spread out or clustered around the central tendency measures (mean, median, or mode). Here's how each of these measures is used:\n",
    "\n",
    "**Range:** The range is the simplest measure of dispersion and is calculated by subtracting the minimum value from the maximum value in a dataset. It provides a rough estimate of the spread but does not take into account the distribution of values between the minimum and maximum. For example, if we have a dataset of exam scores: 75, 80, 85, 90, 95, the range would be 95 - 75 = 20, indicating that the scores vary by 20 points.\n",
    "\n",
    "**Variance:** Variance measures the average squared deviation of each data point from the mean. It gives a more precise measure of the dispersion compared to the range. The formula for variance is:\n",
    "\n",
    "variance = (sum of squared deviations) / (number of values)\n",
    "\n",
    "To calculate variance, we take each data point, subtract the mean from it, square the result, and then calculate the average of these squared deviations. A larger variance indicates greater variability in the dataset. For example, if we have a dataset of exam scores: 75, 80, 85, 90, 95, the variance would be calculated based on the deviation of each score from the mean.\n",
    "\n",
    "**Standard Deviation:** The standard deviation is the square root of the variance. It provides a measure of dispersion in the same units as the original data, making it easier to interpret and compare. The formula for standard deviation is:\n",
    "\n",
    "standard deviation = √(variance)\n",
    "\n",
    "The standard deviation is widely used to describe the spread of a dataset and is often preferred over variance due to its more intuitive interpretation. For example, if the variance of the exam scores dataset is 25, the standard deviation would be √25 = 5, indicating that the scores deviate from the mean by an average of 5 points.\n",
    "\n",
    "\n",
    "\n",
    "\n",
    "\n",
    "\n"
   ]
  },
  {
   "cell_type": "markdown",
   "id": "5a3d4d98-6466-4128-a1a1-a16a37d17189",
   "metadata": {},
   "source": [
    "**Q6**. What is a Venn diagram?\n",
    "\n",
    "**Answer**: A Venn diagram is a graphical representation used to visualize the relationships between different sets or groups of items. It consists of overlapping circles or other shapes, where each circle represents a set and the overlapping regions represent the elements that belong to multiple sets. The primary purpose of a Venn diagram is to show the commonalities and differences between sets and to depict the relationships among them."
   ]
  },
  {
   "cell_type": "markdown",
   "id": "19dc00e5-cd93-4aba-a597-1ef108d63b39",
   "metadata": {},
   "source": [
    "**Q7.** For the two given sets A = (2,3,4,5,6,7) & B = (0,2,6,8,10). Find:\n",
    "\n",
    "(i) \tA intersection B\n",
    "\n",
    "(ii)\tA ⋃ B\n",
    "\n",
    "**Answer**:\n",
    "\n",
    "(I) A intersection B= {2,6}\n",
    "\n",
    "(II) A U B ={0,2,3,4,5,6,7,8,10}"
   ]
  },
  {
   "cell_type": "markdown",
   "id": "0b69b175-1fe4-4c27-a130-609109b36b72",
   "metadata": {},
   "source": [
    "**Q8.** What do you understand about skewness in data?\n",
    "\n",
    "**Answer**:\n",
    "Skewness in data refers to the asymmetry or lack of symmetry in the distribution of values. It provides information about the shape of the distribution and the extent to which it deviates from a perfectly symmetrical bell-shaped curve (normal distribution). Skewness is an important measure of the distribution's departure from symmetry and is used to analyze and interpret data in various fields, including statistics, finance, and data analysis.\n",
    "\n",
    "There are three types of skewness:\n",
    "\n",
    "**(I) Positive Skewness (Right Skewness)**: In a positively skewed distribution, the tail on the right side of the distribution is longer or more spread out than the left tail. This means that the majority of the data points are concentrated on the left side, and there are few extreme values on the right side. The mean of a positively skewed distribution is typically greater than the median, and the distribution is elongated towards the right.\n",
    "\n",
    "**(II) Negative Skewness (Left Skewness)**: In a negatively skewed distribution, the tail on the left side of the distribution is longer or more spread out than the right tail. This indicates that the majority of the data points are concentrated on the right side, and there are few extreme values on the left side. The mean of a negatively skewed distribution is typically less than the median, and the distribution is elongated towards the left.\n",
    "\n",
    "**(III) Zero Skewness (Symmetrical Distribution):** A distribution is considered symmetrical or normally distributed if it has zero skewness. In a symmetrical distribution, the left and right tails are equal in length, and the mean, median, and mode are all equal and located at the center of the distribution.\n",
    "\n",
    "Skewness is measured using statistical measures such as Pearson's skewness coefficient or the moment coefficient of skewness. These measures quantify the extent and direction of skewness numerically, providing a standardized measure to compare and interpret different datasets.\n",
    "\n"
   ]
  },
  {
   "cell_type": "markdown",
   "id": "3074c1c1-f1ce-4eeb-8ebf-02a81c09720e",
   "metadata": {},
   "source": [
    "**Q9.** If a data is right skewed then what will be the position of median with respect to mean?\n",
    "\n",
    "**Answer**: If a dataset is right-skewed, the position of the median with respect to the mean will typically be lower than the mean. In a right-skewed distribution, the tail on the right side is longer or more spread out, indicating the presence of a few extremely high values that pull the mean towards the right."
   ]
  },
  {
   "cell_type": "markdown",
   "id": "d378b65c-e434-4eaa-8d64-362b6bd7f32a",
   "metadata": {},
   "source": [
    "**Q10.** Explain the difference between covariance and correlation. How are these measures used in\n",
    "statistical analysis?\n",
    "\n",
    "**Answer**:Covariance and correlation are two statistical measures used to quantify the relationship between two variables. While they are related, there are some key differences between the two:\n",
    "\n",
    "**(I) Covariance:** Covariance measures the extent to which two variables vary together. It indicates the direction (positive or negative) and the magnitude of the linear relationship between the variables. A positive covariance suggests that the variables tend to move in the same direction, while a negative covariance indicates an inverse relationship.\n",
    "\n",
    "However, covariance alone does not provide a standardized measure of the strength of the relationship. It is affected by the scale of the variables and does not provide a clear interpretation. Covariance can take any value, and its magnitude is influenced by the units of measurement of the variables. Therefore, comparing covariances between different datasets or variables with different scales can be challenging.\n",
    "\n",
    "**(II) Correlation:** Correlation, on the other hand, is a standardized measure that quantifies the strength and direction of the linear relationship between two variables. It ranges from -1 to +1, where -1 indicates a perfect negative correlation, +1 indicates a perfect positive correlation, and 0 indicates no linear correlation.\n",
    "\n",
    "Correlation takes into account the scales of the variables, making it easier to compare relationships across different datasets or variables. It provides a more interpretable measure of association, as it is not affected by the units of measurement. Correlation is widely used to understand the strength and direction of relationships in various fields, such as social sciences, finance, and data analysis.\n",
    "\n",
    "Both covariance and correlation play important roles in statistical analysis:\n",
    "\n",
    "Covariance is useful for determining the direction and strength of the linear relationship between two variables. It helps in understanding how changes in one variable are related to changes in another. However, due to its lack of standardization, it is more commonly used for descriptive purposes or as an intermediate step in calculations.\n",
    "\n",
    "Correlation, being a standardized measure, is extensively used to analyze the strength and direction of linear relationships between variables. It helps in identifying and quantifying the degree to which variables are related. Correlation coefficients are often employed in hypothesis testing, model building, and making predictions based on the relationships observed in the data."
   ]
  },
  {
   "cell_type": "markdown",
   "id": "c413f47f-8906-421f-96a6-860591317788",
   "metadata": {},
   "source": [
    "**Q11**. What is the formula for calculating the sample mean? Provide an example calculation for a\n",
    "dataset.\n",
    "\n",
    "**Answer**:The formula for calculating the sample mean (also known as the arithmetic mean) is:\n",
    "\n",
    "sample mean = (sum of all values in the dataset) / (number of values in the dataset)\n",
    "\n",
    "To calculate the sample mean, you sum up all the values in the dataset and then divide the sum by the total number of values.\n",
    "\n",
    "Let's consider an example dataset of exam scores: 85, 90, 92, 88, 95. We can calculate the sample mean using the formula mentioned above.\n",
    "\n",
    "Add up all the values in the dataset: 85 + 90 + 92 + 88 + 95 = 450\n",
    "\n",
    "Count the number of values in the dataset: 5\n",
    "\n",
    "Divide the sum by the number of values: 450 / 5 = 90\n",
    "\n",
    "Therefore, the sample mean of the exam scores dataset is 90."
   ]
  },
  {
   "cell_type": "markdown",
   "id": "bf6484cf-7838-4b95-9d50-bd6b613d8b40",
   "metadata": {},
   "source": [
    "**Q12**. For a normal distribution data what is the relationship between its measure of central tendency?\n",
    "\n",
    "**Answer**:For a normal distribution, the three measures of central tendency—mean, median, and mode—are all equal or very close to each other. In a perfectly symmetrical and unimodal normal distribution:\n",
    "\n",
    "Mean: The mean is located at the center of the distribution, and it coincides with the peak of the bell-shaped curve. The mean is the arithmetic average of the data points in the distribution.\n",
    "\n",
    "Median: The median is also located at the center of the distribution. It represents the middle value when the data points are sorted in ascending or descending order. In a normal distribution, the median is equal to the mean.\n",
    "\n",
    "Mode: The mode is the most frequent value(s) in the distribution. In a normal distribution, where the data is symmetrical, the mode is also equal to the mean and the median."
   ]
  },
  {
   "cell_type": "markdown",
   "id": "55c7884b-08b2-4404-95c7-0ffb1d4d668e",
   "metadata": {},
   "source": [
    "**Q13.** How is covariance different from correlation?\n",
    "\n",
    "**Answer**: Covariance and correlation are two related measures used to quantify the relationship between two variables. While both measure the association between variables, they have some key differences:\n",
    "\n",
    "**Definition:**\n",
    "\n",
    "Covariance: Covariance measures the extent to which two variables vary together. It indicates the direction (positive or negative) and the magnitude of the linear relationship between the variables.\n",
    "\n",
    "Correlation: Correlation, on the other hand, is a standardized measure that quantifies the strength and direction of the linear relationship between two variables. It ranges from -1 to +1, where -1 indicates a perfect negative correlation, +1 indicates a perfect positive correlation, and 0 indicates no linear correlation.\n",
    "\n",
    "**Scale:**\n",
    "\n",
    "Covariance: Covariance is influenced by the scale of the variables being measured. It takes into account the units of measurement of the variables, and as a result, the magnitude of covariance can vary based on the scales of the variables.\n",
    "\n",
    "Correlation: Correlation, in contrast, is a unitless measure. It is not affected by the scales of the variables and provides a standardized measure of the relationship. Correlation coefficients are typically used for comparing and interpreting relationships across different datasets or variables.\n",
    "\n",
    "**Interpretation:**\n",
    "\n",
    "Covariance: Covariance does not provide a clear interpretation on its own. Its value alone does not indicate the strength or direction of the relationship between variables, as it is influenced by the units of measurement.\n",
    "\n",
    "Correlation: Correlation provides a clear interpretation of the relationship between variables. It quantifies the strength and direction of the linear relationship in a standardized manner, allowing for meaningful comparisons between different datasets or variables.\n",
    "\n",
    "**Range of Values:**\n",
    "\n",
    "Covariance: Covariance can take any value, including positive, negative, and zero values, depending on the nature of the relationship between the variables.\n",
    "\n",
    "Correlation: Correlation values range from -1 to +1, where -1 represents a perfect negative correlation, +1 represents a perfect positive correlation, and 0 represents no linear correlation.\n",
    "\n",
    "\n",
    "\n",
    "\n",
    "\n"
   ]
  },
  {
   "cell_type": "markdown",
   "id": "c398ebd8-bff3-4aa1-9c26-ba459d80c546",
   "metadata": {},
   "source": [
    "**Q14**. How do outliers affect measures of central tendency and dispersion? Provide an example.\n",
    "\n",
    "**Answer**: \n",
    "Outliers can have a significant impact on measures of central tendency (such as mean, median, and mode) and measures of dispersion (such as range, variance, and standard deviation). Their presence can skew the distribution, causing the measures to be distorted. Here's how outliers affect these measures:\n",
    "\n",
    "**Measures of Central Tendency:**\n",
    "\n",
    "Mean: Outliers can greatly influence the mean because it takes into account the value of each data point. A single extreme value can pull the mean towards it, resulting in an inflated or deflated estimate of the central tendency.\n",
    "\n",
    "Median: Outliers have less effect on the median as it is determined by the middle value. The median is resistant to extreme values and provides a more robust estimate of central tendency.\n",
    "\n",
    "Mode: Outliers typically do not affect the mode since it represents the most frequently occurring value. The mode remains relatively stable even in the presence of outliers.\n",
    "\n",
    "**Measures of Dispersion:**\n",
    "\n",
    "Range: Outliers can significantly affect the range by expanding the spread of the data. The range is the difference between the maximum and minimum values, so if an outlier is present, it can increase or decrease the range, depending on its value.\n",
    "\n",
    "Variance: Outliers can increase the variance by introducing additional variability into the dataset. Since the variance is calculated by considering the squared deviations from the mean, extreme values can inflate the deviations and consequently increase the variance.\n",
    "\n",
    "Standard Deviation: Similar to variance, outliers can increase the standard deviation by introducing additional variability. As the standard deviation is the square root of the variance, extreme values can have a disproportionate effect on the standard deviation.\n",
    "\n",
    "Example:\n",
    "Consider a dataset of exam scores: 80, 85, 90, 95, 100, and an outlier of 200. Here's how the presence of this outlier affects the measures of central tendency and dispersion:\n",
    "\n",
    "Mean: The mean is heavily influenced by the outlier. The presence of the outlier increases the mean significantly.\n",
    "\n",
    "Median: The median remains unaffected by the outlier as it represents the middle value, which in this case is still 90.\n",
    "\n",
    "Mode: The mode is unaffected as there is no change in the most frequently occurring value, which is absent in this dataset.\n",
    "\n",
    "Range: The range is increased due to the outlier, as it is the difference between the maximum value (200) and the minimum value (80).\n",
    "\n",
    "Variance: The variance is increased significantly by the outlier, as it contributes to larger squared deviations from the mean.\n",
    "\n",
    "Standard Deviation: The standard deviation is also increased due to the outlier, as it is the square root of the variance."
   ]
  },
  {
   "cell_type": "code",
   "execution_count": null,
   "id": "31c962a2-0cdb-42ea-a860-726659b2adf5",
   "metadata": {},
   "outputs": [],
   "source": []
  }
 ],
 "metadata": {
  "kernelspec": {
   "display_name": "Python 3 (ipykernel)",
   "language": "python",
   "name": "python3"
  },
  "language_info": {
   "codemirror_mode": {
    "name": "ipython",
    "version": 3
   },
   "file_extension": ".py",
   "mimetype": "text/x-python",
   "name": "python",
   "nbconvert_exporter": "python",
   "pygments_lexer": "ipython3",
   "version": "3.10.8"
  }
 },
 "nbformat": 4,
 "nbformat_minor": 5
}
